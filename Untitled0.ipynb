{
  "nbformat": 4,
  "nbformat_minor": 0,
  "metadata": {
    "colab": {
      "provenance": [],
      "authorship_tag": "ABX9TyMqlGndrfjW0NLDcwKocvhi",
      "include_colab_link": true
    },
    "kernelspec": {
      "name": "python3",
      "display_name": "Python 3"
    },
    "language_info": {
      "name": "python"
    }
  },
  "cells": [
    {
      "cell_type": "markdown",
      "metadata": {
        "id": "view-in-github",
        "colab_type": "text"
      },
      "source": [
        "<a href=\"https://colab.research.google.com/github/zhaooao/zhao/blob/main/Untitled0.ipynb\" target=\"_parent\"><img src=\"https://colab.research.google.com/assets/colab-badge.svg\" alt=\"Open In Colab\"/></a>"
      ]
    },
    {
      "cell_type": "code",
      "execution_count": null,
      "metadata": {
        "id": "KAlq-YuTCU-7"
      },
      "outputs": [],
      "source": []
    },
    {
      "cell_type": "markdown",
      "source": [
        "#机器学习"
      ],
      "metadata": {
        "id": "kiequEyuCVfZ"
      }
    },
    {
      "cell_type": "markdown",
      "source": [
        "机器学习是一门通过编程让计算机从数据中进行学习的科学\n",
        "\n",
        "\n"
      ],
      "metadata": {
        "id": "aZ7Dv2TvCq1t"
      }
    }
  ]
}